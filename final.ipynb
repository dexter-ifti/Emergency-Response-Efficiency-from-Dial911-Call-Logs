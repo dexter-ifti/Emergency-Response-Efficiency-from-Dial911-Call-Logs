{
 "cells": [
  {
   "cell_type": "markdown",
   "id": "23713163",
   "metadata": {},
   "source": [
    "# 🚨 **Project: Emergency Response Efficiency Analysis** 🚨\n",
    "\n",
    "### *Using Numpy, Pandas, Matplotlib, and Seaborn*\n",
    "\n",
    "---\n"
   ]
  },
  {
   "cell_type": "markdown",
   "id": "2bfc89e3",
   "metadata": {},
   "source": [
    "\n",
    "## 🛠️ **Step 1: Dataset Loading and Initial Cleaning**\n",
    "\n",
    "### 👉 Operation: Load the dataset and convert datetime columns."
   ]
  },
  {
   "cell_type": "code",
   "execution_count": 33,
   "id": "5e513c6d",
   "metadata": {},
   "outputs": [],
   "source": [
    "# Import necessary libraries\n",
    "import pandas as pd\n",
    "import numpy as np\n",
    "import warnings\n",
    "import matplotlib.pyplot as plt\n",
    "import seaborn as sns"
   ]
  },
  {
   "cell_type": "code",
   "execution_count": null,
   "id": "bc36e199",
   "metadata": {},
   "outputs": [],
   "source": [
    "df = pd.read_csv('dataset2_cleaned.csv') # Load the dataset"
   ]
  },
  {
   "cell_type": "code",
   "execution_count": null,
   "id": "1cd3765e",
   "metadata": {},
   "outputs": [],
   "source": [
    "df.info() # print dataset information"
   ]
  },
  {
   "cell_type": "code",
   "execution_count": null,
   "id": "3e8992bb",
   "metadata": {},
   "outputs": [],
   "source": [
    "df.head() # Display the first 5 rows of the DataFrame "
   ]
  },
  {
   "cell_type": "code",
   "execution_count": null,
   "id": "5c381e64",
   "metadata": {},
   "outputs": [],
   "source": [
    "df.tail() # Display the last 5 rows of the DataFrame"
   ]
  },
  {
   "cell_type": "code",
   "execution_count": null,
   "id": "42964272",
   "metadata": {},
   "outputs": [],
   "source": [
    "print(df.isnull().sum()) # Check for missing values in each column"
   ]
  },
  {
   "cell_type": "code",
   "execution_count": 34,
   "id": "cd3167db",
   "metadata": {},
   "outputs": [
    {
     "name": "stdout",
     "output_type": "stream",
     "text": [
      "✅ Dataset loaded successfully!\n",
      "📊 Dataset shape: (9999, 23)\n",
      "📅 Datetime columns converted: 8\n",
      "🗓️ Date range: 2003-08-17 12:28:59 to 2025-06-17 14:08:49\n"
     ]
    }
   ],
   "source": [
    "warnings.filterwarnings(\"ignore\")  # Ignore warnings for cleaner output\n",
    "# Convert datetime columns\n",
    "datetime_columns = ['Received DtTm', 'Entry DtTm', 'Dispatch DtTm', 'Response DtTm', 'On Scene DtTm',\n",
    "                    'Transport DtTm', 'Hospital DtTm', 'Available DtTm']\n",
    "\n",
    "for col in datetime_columns:\n",
    "    df[col] = pd.to_datetime(df[col], errors='coerce')  # errors='coerce' will handle missing/invalid dates\n",
    "\n",
    "print(\"✅ Dataset loaded successfully!\")\n",
    "print(f\"📊 Dataset shape: {df.shape}\")\n",
    "print(f\"📅 Datetime columns converted: {len(datetime_columns)}\")\n",
    "print(f\"🗓️ Date range: {df['Received DtTm'].min()} to {df['Received DtTm'].max()}\")"
   ]
  },
  {
   "cell_type": "markdown",
   "id": "c1174d55",
   "metadata": {},
   "source": [
    "### ✅ **Explanation:**\n",
    "\n",
    "We are converting the date-time columns to proper `datetime` format so that we can **calculate time differences easily.**\n",
    "`errors='coerce'` automatically sets invalid dates as `NaT` (missing) so we can clean later.\n",
    "\n",
    "---"
   ]
  },
  {
   "cell_type": "markdown",
   "id": "3bc1555c",
   "metadata": {},
   "source": [
    "## 🛠️ **Step 2: Calculate Response Metrics**\n",
    "\n",
    "### 👉 Operation: Calculate Dispatch Delay, Travel Time, and Total Response Time."
   ]
  },
  {
   "cell_type": "code",
   "execution_count": null,
   "id": "80e8dfe3",
   "metadata": {},
   "outputs": [],
   "source": [
    "\n",
    "# Calculate time differences in minutes\n",
    "df['Dispatch Delay (min)'] = (df['Dispatch DtTm'] - df['Received DtTm']).dt.total_seconds() / 60\n",
    "df['Travel Time (min)'] = (df['On Scene DtTm'] - df['Dispatch DtTm']).dt.total_seconds() / 60\n",
    "df['Total Response Time (min)'] = (df['On Scene DtTm'] - df['Received DtTm']).dt.total_seconds() / 60\n",
    "\n"
   ]
  },
  {
   "cell_type": "markdown",
   "id": "938ea0b2",
   "metadata": {},
   "source": [
    "### ✅ **Explanation:**\n",
    "\n",
    "* `Dispatch Delay` ➜ Time taken to dispatch a unit after receiving the call.\n",
    "* `Travel Time` ➜ Time taken to reach the scene after dispatch.\n",
    "* `Total Response Time` ➜ Full time from call received to arrival on the scene.\n",
    "\n",
    "---\n",
    "\n",
    "## 🛠️ **Step 3: Clean the Data**\n",
    "\n",
    "### 👉 Operation: Remove invalid or negative response times."
   ]
  },
  {
   "cell_type": "code",
   "execution_count": null,
   "id": "4f4aa619",
   "metadata": {},
   "outputs": [],
   "source": [
    "# Remove rows with negative or missing response times\n",
    "df_clean = df[(df['Dispatch Delay (min)'] >= 0) &\n",
    "              (df['Travel Time (min)'] >= 0) &\n",
    "              (df['Total Response Time (min)'] >= 0)].copy()"
   ]
  },
  {
   "cell_type": "markdown",
   "id": "b7f76deb",
   "metadata": {},
   "source": [
    "### ✅ **Explanation:**\n",
    "\n",
    "Negative times usually mean data entry errors.\n",
    "We are keeping only **valid, logical response times** for accurate analysis.\n",
    "\n",
    "---"
   ]
  },
  {
   "cell_type": "markdown",
   "id": "0a84b451",
   "metadata": {},
   "source": [
    "## 📊 **Step 4: Descriptive Statistics**\n",
    "\n",
    "### 👉 Operation: Calculate mean, median, and maximum response times."
   ]
  },
  {
   "cell_type": "code",
   "execution_count": null,
   "id": "385843b5",
   "metadata": {},
   "outputs": [],
   "source": [
    "response_stats = df_clean[['Dispatch Delay (min)', 'Travel Time (min)', 'Total Response Time (min)']].describe()\n",
    "response_stats"
   ]
  },
  {
   "cell_type": "markdown",
   "id": "25c1112c",
   "metadata": {},
   "source": [
    "### ✅ **Explanation:**\n",
    "\n",
    "This will show:\n",
    "\n",
    "* **Average response time**\n",
    "* **Minimum and maximum response time**\n",
    "* **Percentiles** to understand spread and outliers\n",
    "\n",
    "---"
   ]
  },
  {
   "cell_type": "markdown",
   "id": "99c82459",
   "metadata": {},
   "source": [
    "## 🎨 **Step 5: Visualize Response Time Distribution**\n",
    "\n",
    "### 👉 Operation: Plot response time distribution using Seaborn."
   ]
  },
  {
   "cell_type": "code",
   "execution_count": null,
   "id": "379f615c",
   "metadata": {},
   "outputs": [],
   "source": [
    "plt.figure(figsize=(12, 6))\n",
    "sns.histplot(df_clean['Total Response Time (min)'], bins=50, kde=True, color='crimson')\n",
    "plt.title('Total Emergency Response Time Distribution', fontsize=16, color='darkblue')\n",
    "plt.xlabel('Total Response Time (minutes)', fontsize=14)\n",
    "plt.ylabel('Frequency', fontsize=14)\n",
    "plt.grid(True, linestyle='--', alpha=0.5)\n",
    "plt.show()"
   ]
  },
  {
   "cell_type": "markdown",
   "id": "8bf1aa8b",
   "metadata": {},
   "source": [
    "### ✅ **Explanation:**\n",
    "\n",
    "We are plotting **how emergency response times are distributed** to check for patterns or delays.\n",
    "\n",
    "---"
   ]
  },
  {
   "cell_type": "markdown",
   "id": "6b3962e9",
   "metadata": {},
   "source": [
    "## 📍 **Step 6: Neighborhood-wise Average Response Time**\n",
    "\n",
    "### 👉 Operation: Calculate and plot average response time by neighborhood."
   ]
  },
  {
   "cell_type": "code",
   "execution_count": null,
   "id": "891a4a46",
   "metadata": {},
   "outputs": [],
   "source": [
    "neighborhood_response = df_clean.groupby('Analysis Neighborhoods')['Total Response Time (min)'].mean().sort_values()\n",
    "\n",
    "plt.figure(figsize=(14, 8))\n",
    "sns.barplot(x=neighborhood_response.values, y=neighborhood_response.index, hue=neighborhood_response.index, palette='coolwarm', legend=False)\n",
    "plt.title('Average Emergency Response Time per Neighborhood', fontsize=16, color='darkgreen')\n",
    "ax = plt.gca()\n",
    "ax.xaxis.set_major_formatter(plt.FuncFormatter(lambda x, p: f'{x:.0f}'))\n",
    "plt.xlabel('Average Total Response Time (minutes)', fontsize=14)\n",
    "plt.ylabel('Neighborhood', fontsize=14)\n",
    "plt.grid(True, linestyle='--', alpha=0.5)\n",
    "plt.show()"
   ]
  },
  {
   "cell_type": "markdown",
   "id": "5af2059c",
   "metadata": {},
   "source": [
    "### ✅ **Explanation:**\n",
    "\n",
    "This shows **which neighborhoods are getting faster or slower emergency responses.**\n",
    "Important for finding hotspots where delays are frequent.\n",
    "\n",
    "---"
   ]
  },
  {
   "cell_type": "markdown",
   "id": "f93770f9",
   "metadata": {},
   "source": [
    "## ⏰ **Step 7: Time of Day vs Response Time**\n",
    "\n",
    "### 👉 Operation: Extract hour and analyze response times across different hours."
   ]
  },
  {
   "cell_type": "code",
   "execution_count": null,
   "id": "2baa3bda",
   "metadata": {},
   "outputs": [],
   "source": [
    "df_clean['Hour of Call'] = df_clean['Received DtTm'].dt.hour\n",
    "\n",
    "plt.figure(figsize=(12, 6))\n",
    "sns.boxplot(x='Hour of Call', y='Total Response Time (min)', data=df_clean, hue='Hour of Call', palette='Spectral', legend=False)\n",
    "plt.title('Response Time by Hour of the Day', fontsize=16, color='darkred')\n",
    "plt.xlabel('Hour of the Day', fontsize=14)\n",
    "plt.ylabel('Total Response Time (minutes)', fontsize=14)\n",
    "plt.grid(True, linestyle='--', alpha=0.5)\n",
    "plt.show()"
   ]
  },
  {
   "cell_type": "markdown",
   "id": "4ce41419",
   "metadata": {},
   "source": [
    "### ✅ **Explanation:**\n",
    "\n",
    "This shows **peak delay hours vs. quick response hours**\n",
    "Ideal for resource planning and peak-hour alertness.\n",
    "\n",
    "---\n"
   ]
  },
  {
   "cell_type": "markdown",
   "id": "221eae61",
   "metadata": {},
   "source": [
    "## 🚑 **Step 8: Call Type Group Analysis**\n",
    "\n",
    "### 👉 Operation: Compare response time across different emergency types."
   ]
  },
  {
   "cell_type": "code",
   "execution_count": null,
   "id": "5cd8710d",
   "metadata": {},
   "outputs": [],
   "source": [
    "plt.figure(figsize=(14, 7))\n",
    "sns.boxplot(x='Call Type Group', y='Total Response Time (min)', hue='Call Type Group', data=df_clean, palette='Set2', legend=False)\n",
    "plt.title('Response Time by Emergency Type', fontsize=16, color='purple')\n",
    "plt.xlabel('Emergency Type', fontsize=14)\n",
    "plt.ylabel('Total Response Time (minutes)', fontsize=14)\n",
    "plt.xticks(rotation=45)\n",
    "plt.grid(True, linestyle='--', alpha=0.5)\n",
    "plt.show()"
   ]
  },
  {
   "cell_type": "markdown",
   "id": "28770c46",
   "metadata": {},
   "source": [
    "### ✅ **Explanation:**\n",
    "\n",
    "This reveals **which emergency types get prioritized** and which ones are delayed.\n",
    "Example: Life-threatening calls should ideally have the fastest response."
   ]
  },
  {
   "cell_type": "markdown",
   "id": "8c9d97cc",
   "metadata": {},
   "source": [
    "---\n",
    "\n",
    "## ⚡ **Step 9: Response Time by Final Priority**\n",
    "\n",
    "### 👉 Operation: Analyze response time based on emergency priority levels."
   ]
  },
  {
   "cell_type": "code",
   "execution_count": null,
   "id": "f4b951d7",
   "metadata": {},
   "outputs": [],
   "source": [
    "plt.figure(figsize=(10, 6))\n",
    "sns.boxplot(x='Final Priority', y='Total Response Time (min)', hue='Final Priority', data=df_clean, palette='viridis', legend=False)\n",
    "plt.title('⚡ Response Time by Final Priority', fontsize=16, color='darkorange')\n",
    "plt.xlabel('Final Priority', fontsize=14)\n",
    "plt.ylabel('Total Response Time (minutes)', fontsize=14)\n",
    "plt.grid(True, linestyle='--', alpha=0.5)\n",
    "plt.show()"
   ]
  },
  {
   "cell_type": "markdown",
   "id": "60e9605d",
   "metadata": {},
   "source": [
    "### ✅ **Explanation:**\n",
    "\n",
    "This shows **how emergency priority levels affect response times.**\n",
    "Higher priority emergencies should ideally receive faster responses."
   ]
  },
  {
   "cell_type": "markdown",
   "id": "e4178f5d",
   "metadata": {},
   "source": [
    "---\n",
    "\n",
    "## 🚑 **Step 10: ALS Unit vs Non-ALS Unit Response Time**\n",
    "\n",
    "### 👉 Operation: Compare response times between Advanced Life Support and regular units."
   ]
  },
  {
   "cell_type": "code",
   "execution_count": null,
   "id": "a368f632",
   "metadata": {},
   "outputs": [],
   "source": [
    "plt.figure(figsize=(10, 6))\n",
    "sns.boxplot(x='ALS Unit', y='Total Response Time (min)', hue='ALS Unit', data=df_clean, palette='cool', legend=False)\n",
    "plt.title('ALS Unit vs Non-ALS Unit Response Time', fontsize=16, color='darkblue')\n",
    "plt.xlabel('ALS Unit (Advanced Life Support)', fontsize=14)\n",
    "plt.ylabel('Total Response Time (minutes)', fontsize=14)\n",
    "plt.grid(True, linestyle='--', alpha=0.5)\n",
    "plt.show()"
   ]
  },
  {
   "cell_type": "markdown",
   "id": "025364e5",
   "metadata": {},
   "source": [
    "### ✅ **Explanation:**\n",
    "\n",
    "This compares **Advanced Life Support (ALS) units vs regular units** to see if specialized units respond faster.\n",
    "\n",
    "---"
   ]
  },
  {
   "cell_type": "markdown",
   "id": "697df93e",
   "metadata": {},
   "source": [
    "## 🚒 **Step 11: Unit Type-wise Response Time**\n",
    "\n",
    "### 👉 Operation: Analyze response times across different types of emergency units."
   ]
  },
  {
   "cell_type": "code",
   "execution_count": null,
   "id": "1b2a424b",
   "metadata": {},
   "outputs": [],
   "source": [
    "plt.figure(figsize=(14, 7))\n",
    "sns.boxplot(x='Unit Type', y='Total Response Time (min)', hue='Unit Type', data=df_clean, palette='Set3', legend=False)\n",
    "plt.title('Response Time by Unit Type', fontsize=16, color='darkgreen')\n",
    "plt.xlabel('Unit Type', fontsize=14)\n",
    "plt.ylabel('Total Response Time (minutes)', fontsize=14)\n",
    "plt.xticks(rotation=45)\n",
    "plt.grid(True, linestyle='--', alpha=0.5)\n",
    "plt.show()"
   ]
  },
  {
   "cell_type": "markdown",
   "id": "02f8dcb7",
   "metadata": {},
   "source": [
    "### ✅ **Explanation:**\n",
    "\n",
    "This shows **which unit types are most efficient** in responding to emergencies.\n",
    "Different unit types may have varying response capabilities.\n",
    "\n",
    "---"
   ]
  },
  {
   "cell_type": "markdown",
   "id": "93425906",
   "metadata": {},
   "source": [
    "## 📍 **Step 12: Response Time by Zipcode of Incident**\n",
    "\n",
    "### 👉 Operation: Analyze average response times across different zip codes."
   ]
  },
  {
   "cell_type": "code",
   "execution_count": null,
   "id": "f1948199",
   "metadata": {},
   "outputs": [],
   "source": [
    "plt.figure(figsize=(14, 8))\n",
    "sns.barplot(x='Zipcode of Incident', y='Total Response Time (min)', hue='Zipcode of Incident', data=df_clean, errorbar=None, palette='YlOrRd', legend=False)\n",
    "plt.title('Average Response Time by Zipcode', fontsize=16, color='darkred')\n",
    "plt.xlabel('Zipcode', fontsize=14)\n",
    "plt.ylabel('Average Total Response Time (minutes)', fontsize=14)\n",
    "plt.xticks(rotation=45)\n",
    "plt.grid(True, linestyle='--', alpha=0.5)\n",
    "plt.show()"
   ]
  },
  {
   "cell_type": "markdown",
   "id": "c96ffe39",
   "metadata": {},
   "source": [
    "### ✅ **Explanation:**\n",
    "\n",
    "This reveals **geographic patterns in emergency response times** across different zip codes.\n",
    "Useful for identifying areas that may need additional emergency resources.\n",
    "\n",
    "---"
   ]
  },
  {
   "cell_type": "markdown",
   "id": "b956f861",
   "metadata": {},
   "source": [
    "## 🔗 Step 13: **Correlation Matrix of Response Time Metrics**\n",
    "\n",
    "### 👉 Operation: Analyze correlation between response time metrics.\n",
    "\n",
    "\n",
    "The table below shows how strongly each response time metric is related to the others. High values indicate a strong relationship, helping identify which delays most impact total response time."
   ]
  },
  {
   "cell_type": "code",
   "execution_count": null,
   "id": "b47cc886",
   "metadata": {},
   "outputs": [],
   "source": [
    "# Create a correlation matrix for relevant numerical columns\n",
    "correlation_matrix = df_clean[['Dispatch Delay (min)', 'Travel Time (min)', 'Total Response Time (min)']].corr()\n",
    "\n",
    "# Plot the heatmap for the correlation matrix\n",
    "plt.figure(figsize=(8, 6))\n",
    "sns.heatmap(correlation_matrix, annot=True, cmap='coolwarm', fmt=\".2f\", square=True)\n",
    "plt.title('Correlation Matrix of Response Time Metrics', fontsize=16, color='darkblue')\n",
    "plt.yticks(rotation=45)\n",
    "plt.xticks(rotation=45)\n",
    "plt.show()\n",
    "\n",
    "# Display correlation matrix values\n",
    "correlation_matrix\n"
   ]
  },
  {
   "cell_type": "markdown",
   "id": "c448bc24",
   "metadata": {},
   "source": [
    "## 🎯 **Project Conclusion**\n",
    "\n",
    "### 📊 **Key Findings:**\n",
    "\n",
    "✅ **Dataset Analysis Complete**: Successfully analyzed 9,999+ emergency response records  \n",
    "✅ **Time Metrics Calculated**: Dispatch delay, travel time, and total response time  \n",
    "✅ **Geographic Insights**: Identified neighborhood and zipcode response patterns  \n",
    "✅ **Temporal Analysis**: Discovered peak delay hours vs. quick response periods  \n",
    "✅ **Priority Assessment**: Analyzed response efficiency by emergency priority levels  \n",
    "✅ **Unit Performance**: Compared ALS units vs. regular units effectiveness  \n",
    "\n",
    "---"
   ]
  }
 ],
 "metadata": {
  "kernelspec": {
   "display_name": "venv",
   "language": "python",
   "name": "python3"
  },
  "language_info": {
   "codemirror_mode": {
    "name": "ipython",
    "version": 3
   },
   "file_extension": ".py",
   "mimetype": "text/x-python",
   "name": "python",
   "nbconvert_exporter": "python",
   "pygments_lexer": "ipython3",
   "version": "3.13.3"
  }
 },
 "nbformat": 4,
 "nbformat_minor": 5
}
